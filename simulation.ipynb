{
 "cells": [
  {
   "cell_type": "markdown",
   "metadata": {},
   "source": [
    "# Purpose\n",
    "\n",
    "The purpose of this notebook is to simulate the effectiveness of different camera positions on a bot of set dimensions to have sight of april tags placed around the field."
   ]
  },
  {
   "cell_type": "code",
   "execution_count": 5,
   "metadata": {},
   "outputs": [],
   "source": [
    "# Imports\n",
    "import matplotlib.pyplot as plt\n",
    "import matplotlib.patches as patches\n",
    "import numpy as np\n"
   ]
  },
  {
   "cell_type": "code",
   "execution_count": 25,
   "metadata": {},
   "outputs": [],
   "source": [
    "# Define basic field parameters\n",
    "field_width = 820 # cm\n",
    "field_length = 1654# cm"
   ]
  },
  {
   "cell_type": "code",
   "execution_count": 41,
   "metadata": {},
   "outputs": [
    {
     "name": "stdout",
     "output_type": "stream",
     "text": [
      "[[1507.9472   24.5872  120.    ]\n",
      " [1618.5134   88.3666  120.    ]\n",
      " [1657.9342  498.2718  180.    ]\n",
      " [1657.9342  554.7868  180.    ]\n",
      " [1470.0758  820.42    270.    ]\n",
      " [ 184.15    820.42    270.    ]\n",
      " [   9.9822  554.7868    0.    ]\n",
      " [   9.9822  498.2718    0.    ]\n",
      " [  35.6108   88.3666   60.    ]\n",
      " [ 146.1516   24.5872   60.    ]\n",
      " [1190.4726  371.3226  300.    ]\n",
      " [1190.4726  449.834    60.    ]\n",
      " [1122.0196  410.5148  180.    ]\n",
      " [ 532.0792  410.5148    0.    ]\n",
      " [ 464.1342  449.834   120.    ]\n",
      " [ 464.1342  371.3226  240.    ]]\n"
     ]
    }
   ],
   "source": [
    "april_tag_size = 16.51 #\n",
    "april_tag_positions = np.array([[593.68,   9.68, 120.  ],\n",
    "                          [637.21,  34.79, 120.  ],\n",
    "                          [652.73, 196.17, 180.  ],\n",
    "                          [652.73, 218.42, 180.  ],\n",
    "                          [578.77, 323.  , 270.  ],\n",
    "                          [ 72.5 , 323.  , 270.  ],\n",
    "                          [ 3.93, 218.42,   0.  ],\n",
    "                          [ 3.93 , 196.17,   0.  ],\n",
    "                          [ 14.02,  34.79,  60.  ],\n",
    "                          [ 57.54,   9.68,  60.  ],\n",
    "                          [468.69, 146.19, 300.  ],\n",
    "                          [468.69, 177.1 ,  60.  ],\n",
    "                          [441.74, 161.62, 180.  ],\n",
    "                          [209.48, 161.62,   0.  ],\n",
    "                          [182.73, 177.1 , 120.  ],\n",
    "                          [182.73, 146.19, 240.  ]])\n",
    " # 2D array of april tag positions (x, y, theta) in inches\n",
    "# Convert inches to centimeters by multiplying by 2.54\n",
    "april_tag_positions[:, :2] *= 2.54\n",
    "print(april_tag_positions)\n",
    "\n"
   ]
  },
  {
   "cell_type": "code",
   "execution_count": 45,
   "metadata": {},
   "outputs": [
    {
     "data": {
      "image/png": "[encoded data removed]",
      "text/plain": [
       "<Figure size 640x480 with 1 Axes>"
      ]
     },
     "metadata": {},
     "output_type": "display_data"
    }
   ],
   "source": [
    "# display the field\n",
    "# Create a new figure\n",
    "fig = plt.figure()\n",
    "\n",
    "# Create a subplot\n",
    "ax = fig.add_subplot(111)\n",
    "\n",
    "# Create a rectangle patch for the field\n",
    "rect = patches.Rectangle((0, 0), field_length, field_width, linewidth=1, edgecolor='r', facecolor='none')\n",
    "\n",
    "# Add the patch to the Axes\n",
    "ax.add_patch(rect)\n",
    "\n",
    "# Set the limits of the plot to the size of the field\n",
    "plt.xlim(0, field_length)\n",
    "plt.ylim(0, field_width)\n",
    "\n",
    "# Make scales the same\n",
    "ax.set_aspect('equal')\n",
    "\n",
    "# Add labels\n",
    "plt.xlabel('Length (cm)')\n",
    "plt.ylabel('Width (cm)')\n",
    "\n",
    "# Add the AprilTags to the plot as small rectangles\n",
    "for position in april_tag_positions:\n",
    "    x, y, theta = position\n",
    "    tag = patches.Rectangle((x - april_tag_size / 2, y - april_tag_size / 2), april_tag_size, april_tag_size, angle=theta, color='blue')\n",
    "    ax.add_patch(tag)\n",
    "\n",
    "\n",
    "# Show the plot\n",
    "plt.show()"
   ]
  }
 ],
 "metadata": {
  "kernelspec": {
   "display_name": "base",
   "language": "python",
   "name": "python3"
  },
  "language_info": {
   "codemirror_mode": {
    "name": "ipython",
    "version": 3
   },
   "file_extension": ".py",
   "mimetype": "text/x-python",
   "name": "python",
   "nbconvert_exporter": "python",
   "pygments_lexer": "ipython3",
   "version": "3.9.13"
  }
 },
 "nbformat": 4,
 "nbformat_minor": 2
}
